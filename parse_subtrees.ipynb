{
 "cells": [
  {
   "cell_type": "markdown",
   "metadata": {},
   "source": [
    "## Parse subtrees\n",
    "This example shows how to navigate the parse tree including subtrees\n",
    "attached to a word.\n",
    "Based on issue #252:\n",
    "\"In the documents and tutorials the main thing I haven't found is\n",
    "examples on how to break sentences down into small sub thoughts/chunks. The\n",
    "noun_chunks is handy, but having examples on using the token.head to find small\n",
    "(near-complete) sentence chunks would be neat. Lets take the example sentence:\n",
    "\"displaCy uses CSS and JavaScript to show you how computers understand language\"\n",
    "This sentence has two main parts (XCOMP & CCOMP) according to the breakdown:\n",
    "[displaCy] uses CSS and Javascript [to + show]\n",
    "show you how computers understand [language]\n",
    "I'm assuming that we can use the token.head to build these groups.\"\n",
    "Compatible with: spaCy v2.0.0+"
   ]
  },
  {
   "cell_type": "code",
   "execution_count": 1,
   "metadata": {},
   "outputs": [],
   "source": [
    "import spacy"
   ]
  },
  {
   "cell_type": "code",
   "execution_count": 2,
   "metadata": {},
   "outputs": [],
   "source": [
    "def main(model='en_core_web_sm'):\n",
    "    nlp = spacy.load(model)\n",
    "    print(\"Loaded model '%s'\" % model)\n",
    "\n",
    "    doc = nlp(\"displaCy uses CSS and JavaScript to show you how computers \"\n",
    "               \"understand language\")\n",
    "\n",
    "    # The easiest way is to find the head of the subtree you want, and then use\n",
    "    # the `.subtree`, `.children`, `.lefts` and `.rights` iterators. `.subtree`\n",
    "    # is the one that does what you're asking for most directly:\n",
    "    for word in doc:\n",
    "        if word.dep_ in ('xcomp', 'ccomp'):\n",
    "            print(''.join(w.text_with_ws for w in word.subtree))\n",
    "\n",
    "    # It'd probably be better for `word.subtree` to return a `Span` object\n",
    "    # instead of a generator over the tokens. If you want the `Span` you can\n",
    "    # get it via the `.right_edge` and `.left_edge` properties. The `Span`\n",
    "    # object is nice because you can easily get a vector, merge it, etc.\n",
    "    for word in doc:\n",
    "        if word.dep_ in ('xcomp', 'ccomp'):\n",
    "            subtree_span = doc[word.left_edge.i : word.right_edge.i + 1]\n",
    "            print(subtree_span.text, '|', subtree_span.root.text)\n",
    "\n",
    "    # You might also want to select a head, and then select a start and end\n",
    "    # position by walking along its children. You could then take the\n",
    "    # `.left_edge` and `.right_edge` of those tokens, and use it to calculate\n",
    "    # a span."
   ]
  },
  {
   "cell_type": "markdown",
   "metadata": {},
   "source": [
    "```\n",
    "\n",
    "    # Expected output:\n",
    "    # to show you how computers understand language\n",
    "    # how computers understand language\n",
    "    # to show you how computers understand language | show\n",
    "    # how computers understand language | understand\n",
    "```"
   ]
  },
  {
   "cell_type": "code",
   "execution_count": 3,
   "metadata": {},
   "outputs": [
    {
     "name": "stdout",
     "output_type": "stream",
     "text": [
      "Loaded model 'en_core_web_sm'\n",
      "to show you how computers understand language\n",
      "how computers understand language\n",
      "to show you how computers understand language | show\n",
      "how computers understand language | understand\n"
     ]
    }
   ],
   "source": [
    "main()"
   ]
  },
  {
   "cell_type": "code",
   "execution_count": null,
   "metadata": {},
   "outputs": [],
   "source": []
  }
 ],
 "metadata": {
  "kernelspec": {
   "display_name": "Python 3",
   "language": "python",
   "name": "python3"
  },
  "language_info": {
   "codemirror_mode": {
    "name": "ipython",
    "version": 3
   },
   "file_extension": ".py",
   "mimetype": "text/x-python",
   "name": "python",
   "nbconvert_exporter": "python",
   "pygments_lexer": "ipython3",
   "version": "3.6.6"
  }
 },
 "nbformat": 4,
 "nbformat_minor": 2
}
