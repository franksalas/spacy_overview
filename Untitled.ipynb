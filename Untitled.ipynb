{
 "cells": [
  {
   "cell_type": "markdown",
   "metadata": {},
   "source": [
    "\n",
    "Match a large set of multi-word expressions in O(1) time.\n",
    "The idea is to associate each word in the vocabulary with a tag, noting whether\n",
    "they begin, end, or are inside at least one pattern. An additional tag is used\n",
    "for single-word patterns. Complete patterns are also stored in a hash set.\n",
    "When we process a document, we look up the words in the vocabulary, to\n",
    "associate the words with the tags.  We then search for tag-sequences that\n",
    "correspond to valid candidates. Finally, we look up the candidates in the hash\n",
    "set.\n",
    "For instance, to search for the phrases \"Barack Hussein Obama\" and \"Hilary\n",
    "Clinton\", we would associate \"Barack\" and \"Hilary\" with the B tag, Hussein with\n",
    "the I tag, and Obama and Clinton with the L tag.\n",
    "The document \"Barack Clinton and Hilary Clinton\" would have the tag sequence\n",
    "[{B}, {L}, {}, {B}, {L}], so we'd get two matches. However, only the second\n",
    "candidate is in the phrase dictionary, so only one is returned as a match.\n",
    "The algorithm is O(n) at run-time for document of length n because we're only\n",
    "ever matching over the tag patterns. So no matter how many phrases we're\n",
    "looking for, our pattern set stays very small (exact size depends on the\n",
    "maximum length we're looking for, as the query language currently has no\n",
    "quantifiers).\n",
    "The example expects a .bz2 file from the Reddit corpus, and a patterns file,\n",
    "formatted in jsonl as a sequence of entries like this:\n",
    "```\n",
    "{\"text\":\"Anchorage\"}\n",
    "{\"text\":\"Angola\"}\n",
    "{\"text\":\"Ann Arbor\"}\n",
    "{\"text\":\"Annapolis\"}\n",
    "{\"text\":\"Appalachia\"}\n",
    "{\"text\":\"Argentina\"}\n",
    "```\n",
    "Reddit comments corpus:\n",
    "* https://files.pushshift.io/reddit/\n",
    "* https://archive.org/details/2015_reddit_comments_corpus\n",
    "Compatible with: spaCy v2.0.0+"
   ]
  },
  {
   "cell_type": "code",
   "execution_count": 3,
   "metadata": {},
   "outputs": [],
   "source": [
    "from bz2 import BZ2File\n",
    "import time\n",
    "import plac\n",
    "import ujson\n",
    "\n",
    "from spacy.matcher import PhraseMatcher\n",
    "import spacy\n",
    "\n",
    "\n",
    "@plac.annotations(\n",
    "    patterns_loc=(\"Path to gazetteer\", \"positional\", None, str),\n",
    "    text_loc=(\"Path to Reddit corpus file\", \"positional\", None, str),\n",
    "    n=(\"Number of texts to read\", \"option\", \"n\", int),\n",
    "    lang=(\"Language class to initialise\", \"option\", \"l\", str))\n",
    "def main(patterns_loc, text_loc, n=10000, lang='en'):\n",
    "    nlp = spacy.blank('en')\n",
    "    nlp.vocab.lex_attr_getters = {}\n",
    "    phrases = read_gazetteer(nlp.tokenizer, patterns_loc)\n",
    "    count = 0\n",
    "    t1 = time.time()\n",
    "    for ent_id, text in get_matches(nlp.tokenizer, phrases,\n",
    "                                    read_text(text_loc, n=n)):\n",
    "        count += 1\n",
    "    t2 = time.time()\n",
    "    print(\"%d docs in %.3f s. %d matches\" % (n, (t2 - t1), count))\n",
    "\n",
    "\n",
    "def read_gazetteer(tokenizer, loc, n=-1):\n",
    "    for i, line in enumerate(open(loc)):\n",
    "        data = ujson.loads(line.strip())\n",
    "        phrase = tokenizer(data['text'])\n",
    "        for w in phrase:\n",
    "            _ = tokenizer.vocab[w.text]\n",
    "        if len(phrase) >= 2:\n",
    "            yield phrase\n",
    "\n",
    "\n",
    "def read_text(bz2_loc, n=10000):\n",
    "    with BZ2File(bz2_loc) as file_:\n",
    "        for i, line in enumerate(file_):\n",
    "            data = ujson.loads(line)\n",
    "            yield data['body']\n",
    "            if i >= n:\n",
    "                break\n",
    "\n",
    "\n",
    "def get_matches(tokenizer, phrases, texts, max_length=6):\n",
    "    matcher = PhraseMatcher(tokenizer.vocab, max_length=max_length)\n",
    "    matcher.add('Phrase', None, *phrases)\n",
    "    for text in texts:\n",
    "        doc = tokenizer(text)\n",
    "        for w in doc:\n",
    "            _ = doc.vocab[w.text]\n",
    "        matches = matcher(doc)\n",
    "        for ent_id, start, end in matches:\n",
    "            yield (ent_id, doc[start:end].text)"
   ]
  },
  {
   "cell_type": "code",
   "execution_count": 6,
   "metadata": {},
   "outputs": [
    {
     "ename": "TypeError",
     "evalue": "main() missing 2 required positional arguments: 'patterns_loc' and 'text_loc'",
     "output_type": "error",
     "traceback": [
      "\u001b[0;31m---------------------------------------------------------------------------\u001b[0m",
      "\u001b[0;31mTypeError\u001b[0m                                 Traceback (most recent call last)",
      "\u001b[0;32m<ipython-input-6-bcf901e3da59>\u001b[0m in \u001b[0;36m<module>\u001b[0;34m()\u001b[0m\n\u001b[1;32m      7\u001b[0m         \u001b[0ms\u001b[0m\u001b[0;34m.\u001b[0m\u001b[0mstrip_dirs\u001b[0m\u001b[0;34m(\u001b[0m\u001b[0;34m)\u001b[0m\u001b[0;34m.\u001b[0m\u001b[0msort_stats\u001b[0m\u001b[0;34m(\u001b[0m\u001b[0;34m\"time\"\u001b[0m\u001b[0;34m)\u001b[0m\u001b[0;34m.\u001b[0m\u001b[0mprint_stats\u001b[0m\u001b[0;34m(\u001b[0m\u001b[0;34m)\u001b[0m\u001b[0;34m\u001b[0m\u001b[0m\n\u001b[1;32m      8\u001b[0m     \u001b[0;32melse\u001b[0m\u001b[0;34m:\u001b[0m\u001b[0;34m\u001b[0m\u001b[0m\n\u001b[0;32m----> 9\u001b[0;31m         \u001b[0mmain\u001b[0m\u001b[0;34m(\u001b[0m\u001b[0;34m)\u001b[0m\u001b[0;34m\u001b[0m\u001b[0m\n\u001b[0m",
      "\u001b[0;31mTypeError\u001b[0m: main() missing 2 required positional arguments: 'patterns_loc' and 'text_loc'"
     ]
    }
   ],
   "source": [
    "if __name__ == '__main__':\n",
    "    if False:\n",
    "        import cProfile\n",
    "        import pstats\n",
    "        cProfile.runctx(\"plac.call(main)\", globals(), locals(), \"Profile.prof\")\n",
    "        s = pstats.Stats(\"Profile.prof\")\n",
    "        s.strip_dirs().sort_stats(\"time\").print_stats()\n",
    "    else:\n",
    "        main()"
   ]
  },
  {
   "cell_type": "code",
   "execution_count": 7,
   "metadata": {},
   "outputs": [
    {
     "ename": "TypeError",
     "evalue": "main() missing 2 required positional arguments: 'patterns_loc' and 'text_loc'",
     "output_type": "error",
     "traceback": [
      "\u001b[0;31m---------------------------------------------------------------------------\u001b[0m",
      "\u001b[0;31mTypeError\u001b[0m                                 Traceback (most recent call last)",
      "\u001b[0;32m<ipython-input-7-263240bbee7e>\u001b[0m in \u001b[0;36m<module>\u001b[0;34m()\u001b[0m\n\u001b[0;32m----> 1\u001b[0;31m \u001b[0mmain\u001b[0m\u001b[0;34m(\u001b[0m\u001b[0;34m)\u001b[0m\u001b[0;34m\u001b[0m\u001b[0m\n\u001b[0m",
      "\u001b[0;31mTypeError\u001b[0m: main() missing 2 required positional arguments: 'patterns_loc' and 'text_loc'"
     ]
    }
   ],
   "source": [
    "main()"
   ]
  },
  {
   "cell_type": "code",
   "execution_count": null,
   "metadata": {},
   "outputs": [],
   "source": []
  }
 ],
 "metadata": {
  "kernelspec": {
   "display_name": "Python 3",
   "language": "python",
   "name": "python3"
  },
  "language_info": {
   "codemirror_mode": {
    "name": "ipython",
    "version": 3
   },
   "file_extension": ".py",
   "mimetype": "text/x-python",
   "name": "python",
   "nbconvert_exporter": "python",
   "pygments_lexer": "ipython3",
   "version": "3.6.6"
  }
 },
 "nbformat": 4,
 "nbformat_minor": 2
}
